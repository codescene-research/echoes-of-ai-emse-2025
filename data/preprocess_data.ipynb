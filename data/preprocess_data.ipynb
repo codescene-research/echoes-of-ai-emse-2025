{
 "cells": [
  {
   "cell_type": "code",
   "execution_count": 1,
   "id": "3ccfe1d5-9275-4a50-8710-393320281f48",
   "metadata": {},
   "outputs": [],
   "source": [
    "import pandas as pd\n",
    "import numpy as np"
   ]
  },
  {
   "cell_type": "markdown",
   "id": "38a4d2ee-e640-47a1-80bf-191023867d53",
   "metadata": {},
   "source": [
    "# Preprocess time"
   ]
  },
  {
   "cell_type": "code",
   "execution_count": 2,
   "id": "87be5f30-9861-4dea-8640-c3ada68a1029",
   "metadata": {},
   "outputs": [],
   "source": [
    "# Load both datasets\n",
    "task1 = pd.read_csv(\"task1_raw.csv\")\n",
    "task2 = pd.read_csv(\"task2_raw.csv\")\n",
    "\n",
    "# Rename 'time' to 'measured_time'\n",
    "task1 = task1.rename(columns={\"time\": \"measured_time\"})\n",
    "task2 = task2.rename(columns={\"time\": \"measured_time\"})\n",
    "\n",
    "# Define logic for clean_time\n",
    "def compute_clean_time(row):\n",
    "    if not np.isnan(row[\"estimated_time\"]):\n",
    "        return row[\"estimated_time\"]\n",
    "    elif row[\"measured_time\"] <= 57600:\n",
    "        return row[\"measured_time\"]\n",
    "    else:\n",
    "        return np.nan\n",
    "\n",
    "# Apply to both datasets\n",
    "task1[\"clean_time\"] = task1.apply(compute_clean_time, axis=1)\n",
    "task2[\"clean_time\"] = task2.apply(compute_clean_time, axis=1)"
   ]
  },
  {
   "cell_type": "markdown",
   "id": "faa1f5c9-982c-414e-83d2-53063e548d23",
   "metadata": {},
   "source": [
    "# Calculate mean PP"
   ]
  },
  {
   "cell_type": "code",
   "execution_count": 3,
   "id": "b9f9040f-ac8a-463c-9499-a0e0e36726b9",
   "metadata": {},
   "outputs": [],
   "source": [
    "# List of exit-space item columns\n",
    "space_items = [f\"exit-space-{i}\" for i in range(1, 11)]\n",
    "inverted_items = [\"exit-space-4\", \"exit-space-10\"]\n",
    "\n",
    "# Create temporary copies for reversed scoring\n",
    "task1_temp = task1[space_items].copy()\n",
    "task2_temp = task2[space_items].copy()\n",
    "\n",
    "for col in inverted_items:\n",
    "    task1_temp[col] = 6 - task1_temp[col]\n",
    "    task2_temp[col] = 6 - task2_temp[col]\n",
    "\n",
    "# Compute mean PP score per participant (rounded)\n",
    "task1[\"pp_mean\"] = task1_temp.mean(axis=1).round(2)\n",
    "task2[\"pp_mean\"] = task2_temp.mean(axis=1).round(2)"
   ]
  },
  {
   "cell_type": "markdown",
   "id": "d97d0227-a9e3-467f-bf6a-ff802a893dc7",
   "metadata": {},
   "source": [
    "# Save to new files"
   ]
  },
  {
   "cell_type": "code",
   "execution_count": 4,
   "id": "78721437-482a-4a40-8487-022ebd51f42a",
   "metadata": {},
   "outputs": [],
   "source": [
    "# Save cleaned versions\n",
    "task1.to_csv(\"task1_preprocessed.csv\", index=False)\n",
    "task2.to_csv(\"task2_preprocessed.csv\", index=False)"
   ]
  }
 ],
 "metadata": {
  "kernelspec": {
   "display_name": "Python 3 (ipykernel)",
   "language": "python",
   "name": "python3"
  },
  "language_info": {
   "codemirror_mode": {
    "name": "ipython",
    "version": 3
   },
   "file_extension": ".py",
   "mimetype": "text/x-python",
   "name": "python",
   "nbconvert_exporter": "python",
   "pygments_lexer": "ipython3",
   "version": "3.9.21"
  }
 },
 "nbformat": 4,
 "nbformat_minor": 5
}
