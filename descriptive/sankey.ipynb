{
 "cells": [
  {
   "cell_type": "code",
   "execution_count": 1,
   "id": "0df57285-2982-44ef-9ca8-ba374e162b9b",
   "metadata": {},
   "outputs": [],
   "source": [
    "import os\n",
    "import plotly.graph_objects as go"
   ]
  },
  {
   "cell_type": "code",
   "execution_count": 2,
   "id": "3435b378-4e2b-42a1-ac2e-ffdb19aeb145",
   "metadata": {},
   "outputs": [],
   "source": [
    "colors = {\n",
    "    'ai_dark_gray': '#808080',      # Standard gray\n",
    "    'manual_work': '#FFD700',       # Strong, saturated yellow\n",
    "    'treatment_blue': '#1f77b4',    # Blue for treatment (unchanged)\n",
    "    'control_orange': '#ff7f0e'     # Orange for control (unchanged)\n",
    "}"
   ]
  },
  {
   "cell_type": "markdown",
   "id": "de791c67-0612-4367-9c70-30d91932b7f5",
   "metadata": {},
   "source": [
    "# Create a Sankey diagram of how Task 1 solutions were assigned to Task 2 participants"
   ]
  },
  {
   "cell_type": "code",
   "execution_count": 3,
   "id": "58432ef3-dc78-4627-b810-8b884cda9ecd",
   "metadata": {},
   "outputs": [
    {
     "data": {
      "application/vnd.plotly.v1+json": {
       "config": {
        "plotlyServerURL": "https://plot.ly"
       },
       "data": [
        {
         "arrangement": "snap",
         "link": {
          "color": [
           "#808080",
           "#808080",
           "#808080",
           "#808080",
           "#808080",
           "#FFD700",
           "#FFD700",
           "#FFD700",
           "#FFD700",
           "#FFD700",
           "#2ca02c",
           "#2ca02c",
           "#1f77b4",
           "#ff7f0e",
           "#1f77b4",
           "#ff7f0e",
           "#1f77b4",
           "#ff7f0e",
           "#ff7f0e"
          ],
          "source": [
           0,
           0,
           0,
           0,
           0,
           1,
           1,
           1,
           1,
           1,
           6,
           6,
           5,
           5,
           4,
           4,
           3,
           3,
           2
          ],
          "target": [
           6,
           5,
           4,
           3,
           2,
           6,
           5,
           4,
           3,
           2,
           7,
           8,
           7,
           8,
           7,
           8,
           7,
           8,
           8
          ],
          "value": [
           13,
           14,
           10,
           2,
           0,
           11,
           20,
           4,
           1,
           1,
           0,
           0,
           14,
           20,
           20,
           8,
           6,
           3,
           4
          ]
         },
         "node": {
          "color": [
           "#808080",
           "#FFD700",
           "#FFFFFF",
           "#FFFFFF",
           "#FFFFFF",
           "#FFFFFF",
           "#000000",
           "#1f77b4",
           "#ff7f0e"
          ],
          "label": [
           "AI-dev (39)",
           "!AI-dev (37)",
           "Four evolutions (1)",
           "Three evolutions (3)",
           "Two evolutions (14)",
           "One evolution (34)",
           "No evolution (24)",
           "Treatment (40)",
           "Control (35)"
          ],
          "line": {
           "color": "black",
           "width": 0.5
          },
          "pad": 15,
          "thickness": 20,
          "x": [
           0,
           0,
           0.3,
           0.3,
           0.3,
           0.3,
           0.3,
           0.6,
           0.6
          ],
          "y": [
           0.5,
           0.5,
           0.1,
           0.2,
           0.4,
           0.6,
           0.8,
           0.3,
           0.6
          ]
         },
         "type": "sankey"
        }
       ],
       "layout": {
        "annotations": [
         {
          "font": {
           "size": 16
          },
          "showarrow": false,
          "text": "Task 1",
          "x": 0.02,
          "xanchor": "center",
          "y": 1.02,
          "yanchor": "bottom"
         },
         {
          "font": {
           "size": 16
          },
          "showarrow": false,
          "text": "Task 2",
          "x": 0.3,
          "xanchor": "center",
          "y": 1.02,
          "yanchor": "bottom"
         },
         {
          "font": {
           "size": 16
          },
          "showarrow": false,
          "text": "Comparisons",
          "x": 0.565,
          "xanchor": "center",
          "y": 1.02,
          "yanchor": "bottom"
         }
        ],
        "font": {
         "size": 14
        },
        "height": 500,
        "template": {
         "data": {
          "bar": [
           {
            "error_x": {
             "color": "#2a3f5f"
            },
            "error_y": {
             "color": "#2a3f5f"
            },
            "marker": {
             "line": {
              "color": "#E5ECF6",
              "width": 0.5
             },
             "pattern": {
              "fillmode": "overlay",
              "size": 10,
              "solidity": 0.2
             }
            },
            "type": "bar"
           }
          ],
          "barpolar": [
           {
            "marker": {
             "line": {
              "color": "#E5ECF6",
              "width": 0.5
             },
             "pattern": {
              "fillmode": "overlay",
              "size": 10,
              "solidity": 0.2
             }
            },
            "type": "barpolar"
           }
          ],
          "carpet": [
           {
            "aaxis": {
             "endlinecolor": "#2a3f5f",
             "gridcolor": "white",
             "linecolor": "white",
             "minorgridcolor": "white",
             "startlinecolor": "#2a3f5f"
            },
            "baxis": {
             "endlinecolor": "#2a3f5f",
             "gridcolor": "white",
             "linecolor": "white",
             "minorgridcolor": "white",
             "startlinecolor": "#2a3f5f"
            },
            "type": "carpet"
           }
          ],
          "choropleth": [
           {
            "colorbar": {
             "outlinewidth": 0,
             "ticks": ""
            },
            "type": "choropleth"
           }
          ],
          "contour": [
           {
            "colorbar": {
             "outlinewidth": 0,
             "ticks": ""
            },
            "colorscale": [
             [
              0,
              "#0d0887"
             ],
             [
              0.1111111111111111,
              "#46039f"
             ],
             [
              0.2222222222222222,
              "#7201a8"
             ],
             [
              0.3333333333333333,
              "#9c179e"
             ],
             [
              0.4444444444444444,
              "#bd3786"
             ],
             [
              0.5555555555555556,
              "#d8576b"
             ],
             [
              0.6666666666666666,
              "#ed7953"
             ],
             [
              0.7777777777777778,
              "#fb9f3a"
             ],
             [
              0.8888888888888888,
              "#fdca26"
             ],
             [
              1,
              "#f0f921"
             ]
            ],
            "type": "contour"
           }
          ],
          "contourcarpet": [
           {
            "colorbar": {
             "outlinewidth": 0,
             "ticks": ""
            },
            "type": "contourcarpet"
           }
          ],
          "heatmap": [
           {
            "colorbar": {
             "outlinewidth": 0,
             "ticks": ""
            },
            "colorscale": [
             [
              0,
              "#0d0887"
             ],
             [
              0.1111111111111111,
              "#46039f"
             ],
             [
              0.2222222222222222,
              "#7201a8"
             ],
             [
              0.3333333333333333,
              "#9c179e"
             ],
             [
              0.4444444444444444,
              "#bd3786"
             ],
             [
              0.5555555555555556,
              "#d8576b"
             ],
             [
              0.6666666666666666,
              "#ed7953"
             ],
             [
              0.7777777777777778,
              "#fb9f3a"
             ],
             [
              0.8888888888888888,
              "#fdca26"
             ],
             [
              1,
              "#f0f921"
             ]
            ],
            "type": "heatmap"
           }
          ],
          "histogram": [
           {
            "marker": {
             "pattern": {
              "fillmode": "overlay",
              "size": 10,
              "solidity": 0.2
             }
            },
            "type": "histogram"
           }
          ],
          "histogram2d": [
           {
            "colorbar": {
             "outlinewidth": 0,
             "ticks": ""
            },
            "colorscale": [
             [
              0,
              "#0d0887"
             ],
             [
              0.1111111111111111,
              "#46039f"
             ],
             [
              0.2222222222222222,
              "#7201a8"
             ],
             [
              0.3333333333333333,
              "#9c179e"
             ],
             [
              0.4444444444444444,
              "#bd3786"
             ],
             [
              0.5555555555555556,
              "#d8576b"
             ],
             [
              0.6666666666666666,
              "#ed7953"
             ],
             [
              0.7777777777777778,
              "#fb9f3a"
             ],
             [
              0.8888888888888888,
              "#fdca26"
             ],
             [
              1,
              "#f0f921"
             ]
            ],
            "type": "histogram2d"
           }
          ],
          "histogram2dcontour": [
           {
            "colorbar": {
             "outlinewidth": 0,
             "ticks": ""
            },
            "colorscale": [
             [
              0,
              "#0d0887"
             ],
             [
              0.1111111111111111,
              "#46039f"
             ],
             [
              0.2222222222222222,
              "#7201a8"
             ],
             [
              0.3333333333333333,
              "#9c179e"
             ],
             [
              0.4444444444444444,
              "#bd3786"
             ],
             [
              0.5555555555555556,
              "#d8576b"
             ],
             [
              0.6666666666666666,
              "#ed7953"
             ],
             [
              0.7777777777777778,
              "#fb9f3a"
             ],
             [
              0.8888888888888888,
              "#fdca26"
             ],
             [
              1,
              "#f0f921"
             ]
            ],
            "type": "histogram2dcontour"
           }
          ],
          "mesh3d": [
           {
            "colorbar": {
             "outlinewidth": 0,
             "ticks": ""
            },
            "type": "mesh3d"
           }
          ],
          "parcoords": [
           {
            "line": {
             "colorbar": {
              "outlinewidth": 0,
              "ticks": ""
             }
            },
            "type": "parcoords"
           }
          ],
          "pie": [
           {
            "automargin": true,
            "type": "pie"
           }
          ],
          "scatter": [
           {
            "fillpattern": {
             "fillmode": "overlay",
             "size": 10,
             "solidity": 0.2
            },
            "type": "scatter"
           }
          ],
          "scatter3d": [
           {
            "line": {
             "colorbar": {
              "outlinewidth": 0,
              "ticks": ""
             }
            },
            "marker": {
             "colorbar": {
              "outlinewidth": 0,
              "ticks": ""
             }
            },
            "type": "scatter3d"
           }
          ],
          "scattercarpet": [
           {
            "marker": {
             "colorbar": {
              "outlinewidth": 0,
              "ticks": ""
             }
            },
            "type": "scattercarpet"
           }
          ],
          "scattergeo": [
           {
            "marker": {
             "colorbar": {
              "outlinewidth": 0,
              "ticks": ""
             }
            },
            "type": "scattergeo"
           }
          ],
          "scattergl": [
           {
            "marker": {
             "colorbar": {
              "outlinewidth": 0,
              "ticks": ""
             }
            },
            "type": "scattergl"
           }
          ],
          "scattermap": [
           {
            "marker": {
             "colorbar": {
              "outlinewidth": 0,
              "ticks": ""
             }
            },
            "type": "scattermap"
           }
          ],
          "scattermapbox": [
           {
            "marker": {
             "colorbar": {
              "outlinewidth": 0,
              "ticks": ""
             }
            },
            "type": "scattermapbox"
           }
          ],
          "scatterpolar": [
           {
            "marker": {
             "colorbar": {
              "outlinewidth": 0,
              "ticks": ""
             }
            },
            "type": "scatterpolar"
           }
          ],
          "scatterpolargl": [
           {
            "marker": {
             "colorbar": {
              "outlinewidth": 0,
              "ticks": ""
             }
            },
            "type": "scatterpolargl"
           }
          ],
          "scatterternary": [
           {
            "marker": {
             "colorbar": {
              "outlinewidth": 0,
              "ticks": ""
             }
            },
            "type": "scatterternary"
           }
          ],
          "surface": [
           {
            "colorbar": {
             "outlinewidth": 0,
             "ticks": ""
            },
            "colorscale": [
             [
              0,
              "#0d0887"
             ],
             [
              0.1111111111111111,
              "#46039f"
             ],
             [
              0.2222222222222222,
              "#7201a8"
             ],
             [
              0.3333333333333333,
              "#9c179e"
             ],
             [
              0.4444444444444444,
              "#bd3786"
             ],
             [
              0.5555555555555556,
              "#d8576b"
             ],
             [
              0.6666666666666666,
              "#ed7953"
             ],
             [
              0.7777777777777778,
              "#fb9f3a"
             ],
             [
              0.8888888888888888,
              "#fdca26"
             ],
             [
              1,
              "#f0f921"
             ]
            ],
            "type": "surface"
           }
          ],
          "table": [
           {
            "cells": {
             "fill": {
              "color": "#EBF0F8"
             },
             "line": {
              "color": "white"
             }
            },
            "header": {
             "fill": {
              "color": "#C8D4E3"
             },
             "line": {
              "color": "white"
             }
            },
            "type": "table"
           }
          ]
         },
         "layout": {
          "annotationdefaults": {
           "arrowcolor": "#2a3f5f",
           "arrowhead": 0,
           "arrowwidth": 1
          },
          "autotypenumbers": "strict",
          "coloraxis": {
           "colorbar": {
            "outlinewidth": 0,
            "ticks": ""
           }
          },
          "colorscale": {
           "diverging": [
            [
             0,
             "#8e0152"
            ],
            [
             0.1,
             "#c51b7d"
            ],
            [
             0.2,
             "#de77ae"
            ],
            [
             0.3,
             "#f1b6da"
            ],
            [
             0.4,
             "#fde0ef"
            ],
            [
             0.5,
             "#f7f7f7"
            ],
            [
             0.6,
             "#e6f5d0"
            ],
            [
             0.7,
             "#b8e186"
            ],
            [
             0.8,
             "#7fbc41"
            ],
            [
             0.9,
             "#4d9221"
            ],
            [
             1,
             "#276419"
            ]
           ],
           "sequential": [
            [
             0,
             "#0d0887"
            ],
            [
             0.1111111111111111,
             "#46039f"
            ],
            [
             0.2222222222222222,
             "#7201a8"
            ],
            [
             0.3333333333333333,
             "#9c179e"
            ],
            [
             0.4444444444444444,
             "#bd3786"
            ],
            [
             0.5555555555555556,
             "#d8576b"
            ],
            [
             0.6666666666666666,
             "#ed7953"
            ],
            [
             0.7777777777777778,
             "#fb9f3a"
            ],
            [
             0.8888888888888888,
             "#fdca26"
            ],
            [
             1,
             "#f0f921"
            ]
           ],
           "sequentialminus": [
            [
             0,
             "#0d0887"
            ],
            [
             0.1111111111111111,
             "#46039f"
            ],
            [
             0.2222222222222222,
             "#7201a8"
            ],
            [
             0.3333333333333333,
             "#9c179e"
            ],
            [
             0.4444444444444444,
             "#bd3786"
            ],
            [
             0.5555555555555556,
             "#d8576b"
            ],
            [
             0.6666666666666666,
             "#ed7953"
            ],
            [
             0.7777777777777778,
             "#fb9f3a"
            ],
            [
             0.8888888888888888,
             "#fdca26"
            ],
            [
             1,
             "#f0f921"
            ]
           ]
          },
          "colorway": [
           "#636efa",
           "#EF553B",
           "#00cc96",
           "#ab63fa",
           "#FFA15A",
           "#19d3f3",
           "#FF6692",
           "#B6E880",
           "#FF97FF",
           "#FECB52"
          ],
          "font": {
           "color": "#2a3f5f"
          },
          "geo": {
           "bgcolor": "white",
           "lakecolor": "white",
           "landcolor": "#E5ECF6",
           "showlakes": true,
           "showland": true,
           "subunitcolor": "white"
          },
          "hoverlabel": {
           "align": "left"
          },
          "hovermode": "closest",
          "mapbox": {
           "style": "light"
          },
          "paper_bgcolor": "white",
          "plot_bgcolor": "#E5ECF6",
          "polar": {
           "angularaxis": {
            "gridcolor": "white",
            "linecolor": "white",
            "ticks": ""
           },
           "bgcolor": "#E5ECF6",
           "radialaxis": {
            "gridcolor": "white",
            "linecolor": "white",
            "ticks": ""
           }
          },
          "scene": {
           "xaxis": {
            "backgroundcolor": "#E5ECF6",
            "gridcolor": "white",
            "gridwidth": 2,
            "linecolor": "white",
            "showbackground": true,
            "ticks": "",
            "zerolinecolor": "white"
           },
           "yaxis": {
            "backgroundcolor": "#E5ECF6",
            "gridcolor": "white",
            "gridwidth": 2,
            "linecolor": "white",
            "showbackground": true,
            "ticks": "",
            "zerolinecolor": "white"
           },
           "zaxis": {
            "backgroundcolor": "#E5ECF6",
            "gridcolor": "white",
            "gridwidth": 2,
            "linecolor": "white",
            "showbackground": true,
            "ticks": "",
            "zerolinecolor": "white"
           }
          },
          "shapedefaults": {
           "line": {
            "color": "#2a3f5f"
           }
          },
          "ternary": {
           "aaxis": {
            "gridcolor": "white",
            "linecolor": "white",
            "ticks": ""
           },
           "baxis": {
            "gridcolor": "white",
            "linecolor": "white",
            "ticks": ""
           },
           "bgcolor": "#E5ECF6",
           "caxis": {
            "gridcolor": "white",
            "linecolor": "white",
            "ticks": ""
           }
          },
          "title": {
           "x": 0.05
          },
          "xaxis": {
           "automargin": true,
           "gridcolor": "white",
           "linecolor": "white",
           "ticks": "",
           "title": {
            "standoff": 15
           },
           "zerolinecolor": "white",
           "zerolinewidth": 2
          },
          "yaxis": {
           "automargin": true,
           "gridcolor": "white",
           "linecolor": "white",
           "ticks": "",
           "title": {
            "standoff": 15
           },
           "zerolinecolor": "white",
           "zerolinewidth": 2
          }
         }
        },
        "width": 1600
       }
      },
      "image/png": "[encoded data removed]"
     },
     "metadata": {},
     "output_type": "display_data"
    }
   ],
   "source": [
    "# Create the folder if it doesn't exist\n",
    "os.makedirs(\"figures\", exist_ok=True)\n",
    "\n",
    "# Labels for all nodes\n",
    "labels = [\n",
    "    \"AI-dev (39)\", \"!AI-dev (37)\",       # 0, 1\n",
    "    \"Four evolutions (1)\", \"Three evolutions (3)\", \"Two evolutions (14)\", \"One evolution (34)\", \"No evolution (24)\",  # 2–6\n",
    "    \"Treatment (40)\", \"Control (35)\"     # 7, 8\n",
    "]\n",
    "\n",
    "# Coordinates for layout (manual y for vertical alignment)\n",
    "y_positions = [\n",
    "    0.5, 0.5,   # AI-dev, !AI-dev\n",
    "    0.1, 0.2, 0.4, 0.6, 0.8,  # Task 2 buckets (4→0)\n",
    "    0.3, 0.6    # Treatment, Control\n",
    "]\n",
    "\n",
    "x_positions = [\n",
    "    0.0, 0.0,   # AI-dev, !AI-dev\n",
    "    0.3, 0.3, 0.3, 0.3, 0.3,  # Task 2 buckets\n",
    "    0.6, 0.6    # Treatment, Control\n",
    "]\n",
    "\n",
    "# Flow from AI-dev (0) to Task 2 buckets (2–6)\n",
    "sources = [0, 0, 0, 0, 0]\n",
    "targets = [6, 5, 4, 3, 2]\n",
    "values  = [13, 14, 10, 2, 0]\n",
    "\n",
    "# Flow from !AI-dev (1) to Task 2 buckets\n",
    "sources += [1, 1, 1, 1, 1]\n",
    "targets += [6, 5, 4, 3, 2]\n",
    "values  += [11, 20, 4, 1, 1]\n",
    "\n",
    "# Flow from Task 2 buckets to Treatment (7) and Control (8)\n",
    "sources += [6, 6, 5, 5, 4, 4, 3, 3, 2]\n",
    "targets += [7, 8, 7, 8, 7, 8, 7, 8, 8]\n",
    "values  += [0, 0, 14, 20, 20, 8, 6, 3, 4]\n",
    "\n",
    "# Define colors for links for better traceability\n",
    "link_colors = (\n",
    "    [colors['ai_dark_gray']] * 5 +    # AI-dev to Task 2 buckets\n",
    "    [colors['manual_work']] * 5 +    # !AI-dev to Task 2 buckets\n",
    "    [\"#2ca02c\", \"#2ca02c\", colors['treatment_blue'], colors['control_orange'], colors['treatment_blue'], colors['control_orange'], \n",
    "     colors['treatment_blue'], colors['control_orange'], colors['control_orange']]\n",
    ")\n",
    "\n",
    "# Node colors\n",
    "node_colors = [\n",
    "    colors['ai_dark_gray'], colors['manual_work'],       # AI-dev, !AI-dev\n",
    "    \"#FFFFFF\", \"#FFFFFF\", \"#FFFFFF\", \"#FFFFFF\", \"#000000\",  # Task 2 buckets\n",
    "    colors['treatment_blue'], colors['control_orange']        # Treatment, Control\n",
    "]\n",
    "\n",
    "# Build the Sankey diagram\n",
    "fig = go.Figure(data=[go.Sankey(\n",
    "    arrangement=\"snap\",\n",
    "    node=dict(\n",
    "        pad=15,\n",
    "        thickness=20,\n",
    "        line=dict(color=\"black\", width=0.5),\n",
    "        label=labels,\n",
    "        color=node_colors,\n",
    "        x=x_positions,\n",
    "        y=y_positions\n",
    "    ),\n",
    "    link=dict(\n",
    "        source=sources,\n",
    "        target=targets,\n",
    "        value=values,\n",
    "        color=link_colors\n",
    "    )\n",
    ")])\n",
    "\n",
    "fig.add_annotation(\n",
    "    x=0.02, y=1.02, text=\"Task 1\",\n",
    "    showarrow=False, font=dict(size=16),\n",
    "    xanchor=\"center\", yanchor=\"bottom\"\n",
    ")\n",
    "\n",
    "fig.add_annotation(\n",
    "    x=0.3, y=1.02, text=\"Task 2\",\n",
    "    showarrow=False, font=dict(size=16),\n",
    "    xanchor=\"center\", yanchor=\"bottom\"\n",
    ")\n",
    "\n",
    "fig.add_annotation(\n",
    "    x=0.565, y=1.02, text=\"Comparisons\",\n",
    "    showarrow=False, font=dict(size=16),\n",
    "    xanchor=\"center\", yanchor=\"bottom\"\n",
    ")\n",
    "\n",
    "fig.update_layout(font_size=14, width=1600, height=500)\n",
    "fig.show()\n",
    "\n",
    "# Save figure as HTML\n",
    "fig.write_html(\"figures/sankey_ai_dev_outcomes.html\")"
   ]
  },
  {
   "cell_type": "code",
   "execution_count": null,
   "id": "8265e3c0-cef7-4790-9e86-4ab27cc8ee4c",
   "metadata": {},
   "outputs": [],
   "source": []
  },
  {
   "cell_type": "code",
   "execution_count": null,
   "id": "bf6e4413-f437-4404-84a2-6cb1ae649499",
   "metadata": {},
   "outputs": [],
   "source": []
  }
 ],
 "metadata": {
  "kernelspec": {
   "display_name": "Python 3 (ipykernel)",
   "language": "python",
   "name": "python3"
  },
  "language_info": {
   "codemirror_mode": {
    "name": "ipython",
    "version": 3
   },
   "file_extension": ".py",
   "mimetype": "text/x-python",
   "name": "python",
   "nbconvert_exporter": "python",
   "pygments_lexer": "ipython3",
   "version": "3.9.21"
  }
 },
 "nbformat": 4,
 "nbformat_minor": 5
}
